{
 "cells": [
  {
   "cell_type": "markdown",
   "metadata": {},
   "source": [
    "### pipeline steps\n",
    "- read audio and textgrid files\n",
    "- convert to annotated vectors \n",
    "- add start and end tokens\n",
    "\n",
    "### Features \n",
    "- for each audio file each timestep\n",
    "    - create create a set of features\n",
    "    - mel spectrogram\n",
    "    - pitch\n",
    "    - energy\n",
    "    - others\n",
    "\n",
    "\n",
    "### Data\n",
    "- the shape of the data is (51, 128,2)\n",
    "- The data has 51 arrays, each corresponding to an audio file\n",
    "    - Each of the audio files has 128 mel spectrogram features and a Y variable\n",
    "        - a mel spectrogram feature is 109 dimensional .. other features can be added (mfcc, rmse, ..)\n",
    "        - the Y variable tells whether a part is stressed (I) or not (O)\n",
    "     \n",
    "### Model\n",
    "- train seq labelling models\n",
    "    - crf : create new feature functions\n",
    "    - RNN (GRU): data? -> overfit?\n",
    "    - MEMM how?"
   ]
  },
  {
   "cell_type": "code",
   "execution_count": 139,
   "metadata": {},
   "outputs": [],
   "source": [
    "import numpy as np\n",
    "import librosa\n",
    "import keras\n",
    "from os import path\n",
    "from glob import glob\n",
    "from textgrid import TextGrid\n",
    "from textgrid import Interval\n",
    "import librosa.display\n",
    "import matplotlib.pyplot as plt\n",
    "data_folder = \"../../Prosody-Pragmatics/Corpus/AA\""
   ]
  },
  {
   "cell_type": "code",
   "execution_count": 3,
   "metadata": {},
   "outputs": [
    {
     "name": "stdout",
     "output_type": "stream",
     "text": [
      "51\n"
     ]
    }
   ],
   "source": [
    "audio_files = glob(path.join(data_folder,\"*.wav\"))\n",
    "print(len(audio_files))"
   ]
  },
  {
   "cell_type": "code",
   "execution_count": 182,
   "metadata": {
    "scrolled": true
   },
   "outputs": [
    {
     "name": "stdout",
     "output_type": "stream",
     "text": [
      "../../Prosody-Pragmatics/Corpus/AA/AA_20180711_5_1_2.wav\n",
      "../../Prosody-Pragmatics/Corpus/AA/AA_20180711_5_1_2.TextGrid\n",
      "../../Prosody-Pragmatics/Corpus/AA/AA_20180711_5_3_4.wav\n",
      "../../Prosody-Pragmatics/Corpus/AA/AA_20180711_5_3_4.TextGrid\n",
      "../../Prosody-Pragmatics/Corpus/AA/AA_20180703_2_1_2.wav\n",
      "../../Prosody-Pragmatics/Corpus/AA/AA_20180703_2_1_2.TextGrid\n",
      "../../Prosody-Pragmatics/Corpus/AA/AA_20180711_5_0_1.wav\n",
      "../../Prosody-Pragmatics/Corpus/AA/AA_20180711_5_0_1.TextGrid\n",
      "../../Prosody-Pragmatics/Corpus/AA/AA_20180703_2_5_6.wav\n",
      "../../Prosody-Pragmatics/Corpus/AA/AA_20180703_2_5_6.TextGrid\n",
      "../../Prosody-Pragmatics/Corpus/AA/AA_20180703_2_0_1.wav\n",
      "../../Prosody-Pragmatics/Corpus/AA/AA_20180703_2_0_1.TextGrid\n",
      "../../Prosody-Pragmatics/Corpus/AA/AA_20180703_3_0_0.wav\n",
      "../../Prosody-Pragmatics/Corpus/AA/AA_20180703_3_0_0.TextGrid\n",
      "../../Prosody-Pragmatics/Corpus/AA/AA_20180711_6_1_2.wav\n",
      "../../Prosody-Pragmatics/Corpus/AA/AA_20180711_6_1_2.TextGrid\n",
      "../../Prosody-Pragmatics/Corpus/AA/AA_20180711_9_0_0.wav\n",
      "../../Prosody-Pragmatics/Corpus/AA/AA_20180711_9_0_0.TextGrid\n",
      "../../Prosody-Pragmatics/Corpus/AA/AA_20180703_3_4_5.wav\n",
      "../../Prosody-Pragmatics/Corpus/AA/AA_20180703_3_4_5.TextGrid\n",
      "../../Prosody-Pragmatics/Corpus/AA/AA_20180711_4_3_4.wav\n",
      "../../Prosody-Pragmatics/Corpus/AA/AA_20180711_4_3_4.TextGrid\n",
      "../../Prosody-Pragmatics/Corpus/AA/AA_20180711_11_0_0.wav\n",
      "../../Prosody-Pragmatics/Corpus/AA/AA_20180711_11_0_0.TextGrid\n",
      "../../Prosody-Pragmatics/Corpus/AA/AA_20180711_10_1_2.wav\n",
      "../../Prosody-Pragmatics/Corpus/AA/AA_20180711_10_1_2.TextGrid\n",
      "../../Prosody-Pragmatics/Corpus/AA/AA_20180711_11_6_7.wav\n",
      "../../Prosody-Pragmatics/Corpus/AA/AA_20180711_11_6_7.TextGrid\n",
      "../../Prosody-Pragmatics/Corpus/AA/AA_20180711_7_0_1.wav\n",
      "../../Prosody-Pragmatics/Corpus/AA/AA_20180711_7_0_1.TextGrid\n",
      "../../Prosody-Pragmatics/Corpus/AA/AA_20180711_10_0_1.wav\n",
      "../../Prosody-Pragmatics/Corpus/AA/AA_20180711_10_0_1.TextGrid\n",
      "../../Prosody-Pragmatics/Corpus/AA/AA_20180711_6_2_3.wav\n",
      "../../Prosody-Pragmatics/Corpus/AA/AA_20180711_6_2_3.TextGrid\n",
      "../../Prosody-Pragmatics/Corpus/AA/AA_20180711_7_0_0.wav\n",
      "../../Prosody-Pragmatics/Corpus/AA/AA_20180711_7_0_0.TextGrid\n",
      "../../Prosody-Pragmatics/Corpus/AA/AA_20180711_9_0_1.wav\n",
      "../../Prosody-Pragmatics/Corpus/AA/AA_20180711_9_0_1.TextGrid\n",
      "../../Prosody-Pragmatics/Corpus/AA/AA_20180711_10_6_8.wav\n",
      "../../Prosody-Pragmatics/Corpus/AA/AA_20180711_10_6_8.TextGrid\n",
      "../../Prosody-Pragmatics/Corpus/AA/AA_20180711_9_6_7.wav\n",
      "../../Prosody-Pragmatics/Corpus/AA/AA_20180711_9_6_7.TextGrid\n",
      "../../Prosody-Pragmatics/Corpus/AA/AA_20180703_3_0_1.wav\n",
      "../../Prosody-Pragmatics/Corpus/AA/AA_20180703_3_0_1.TextGrid\n",
      "../../Prosody-Pragmatics/Corpus/AA/AA_20180711_10_4_5.wav\n",
      "../../Prosody-Pragmatics/Corpus/AA/AA_20180711_10_4_5.TextGrid\n",
      "../../Prosody-Pragmatics/Corpus/AA/AA_20180711_9_1_2.wav\n",
      "../../Prosody-Pragmatics/Corpus/AA/AA_20180711_9_1_2.TextGrid\n",
      "../../Prosody-Pragmatics/Corpus/AA/AA_20180711_6_0_0.wav\n",
      "../../Prosody-Pragmatics/Corpus/AA/AA_20180711_6_0_0.TextGrid\n",
      "../../Prosody-Pragmatics/Corpus/AA/AA_20180711_8_0_3.wav\n",
      "../../Prosody-Pragmatics/Corpus/AA/AA_20180711_8_0_3.TextGrid\n",
      "../../Prosody-Pragmatics/Corpus/AA/AA_20180711_9_5_6.wav\n",
      "../../Prosody-Pragmatics/Corpus/AA/AA_20180711_9_5_6.TextGrid\n",
      "../../Prosody-Pragmatics/Corpus/AA/AA_20180711_8_0_0.wav\n",
      "../../Prosody-Pragmatics/Corpus/AA/AA_20180711_8_0_0.TextGrid\n",
      "../../Prosody-Pragmatics/Corpus/AA/AA_20180711_10_7_8.wav\n",
      "../../Prosody-Pragmatics/Corpus/AA/AA_20180711_10_7_8.TextGrid\n",
      "../../Prosody-Pragmatics/Corpus/AA/AA_20180711_5_5_6.wav\n",
      "../../Prosody-Pragmatics/Corpus/AA/AA_20180711_5_5_6.TextGrid\n",
      "../../Prosody-Pragmatics/Corpus/AA/AA_20180711_7_3_4.wav\n",
      "../../Prosody-Pragmatics/Corpus/AA/AA_20180711_7_3_4.TextGrid\n",
      "../../Prosody-Pragmatics/Corpus/AA/AA_20180711_11_0_1.wav\n",
      "../../Prosody-Pragmatics/Corpus/AA/AA_20180711_11_0_1.TextGrid\n",
      "../../Prosody-Pragmatics/Corpus/AA/AA_20180703_3_2_3.wav\n",
      "../../Prosody-Pragmatics/Corpus/AA/AA_20180703_3_2_3.TextGrid\n",
      "../../Prosody-Pragmatics/Corpus/AA/AA_20180711_9_4_5.wav\n",
      "../../Prosody-Pragmatics/Corpus/AA/AA_20180711_9_4_5.TextGrid\n",
      "../../Prosody-Pragmatics/Corpus/AA/AA_20180703_3_1_2.wav\n",
      "../../Prosody-Pragmatics/Corpus/AA/AA_20180703_3_1_2.TextGrid\n",
      "../../Prosody-Pragmatics/Corpus/AA/AA_20180711_6_4_5.wav\n",
      "../../Prosody-Pragmatics/Corpus/AA/AA_20180711_6_4_5.TextGrid\n",
      "../../Prosody-Pragmatics/Corpus/AA/AA_20180711_11_4_7.wav\n",
      "../../Prosody-Pragmatics/Corpus/AA/AA_20180711_11_4_7.TextGrid\n",
      "../../Prosody-Pragmatics/Corpus/AA/AA_20180711_4_0_0.wav\n",
      "../../Prosody-Pragmatics/Corpus/AA/AA_20180711_4_0_0.TextGrid\n",
      "../../Prosody-Pragmatics/Corpus/AA/AA_20180711_10_0_0.wav\n",
      "../../Prosody-Pragmatics/Corpus/AA/AA_20180711_10_0_0.TextGrid\n",
      "../../Prosody-Pragmatics/Corpus/AA/AA_20180711_8_7_8.wav\n",
      "../../Prosody-Pragmatics/Corpus/AA/AA_20180711_8_7_8.TextGrid\n",
      "../../Prosody-Pragmatics/Corpus/AA/AA_20180711_7_2_3.wav\n",
      "../../Prosody-Pragmatics/Corpus/AA/AA_20180711_7_2_3.TextGrid\n",
      "../../Prosody-Pragmatics/Corpus/AA/AA_20180711_11_3_4.wav\n",
      "../../Prosody-Pragmatics/Corpus/AA/AA_20180711_11_3_4.TextGrid\n",
      "../../Prosody-Pragmatics/Corpus/AA/AA_20180711_4_0_1.wav\n",
      "../../Prosody-Pragmatics/Corpus/AA/AA_20180711_4_0_1.TextGrid\n",
      "../../Prosody-Pragmatics/Corpus/AA/AA_20180711_8_5_6.wav\n",
      "../../Prosody-Pragmatics/Corpus/AA/AA_20180711_8_5_6.TextGrid\n",
      "../../Prosody-Pragmatics/Corpus/AA/AA_20180711_7_5_6.wav\n",
      "../../Prosody-Pragmatics/Corpus/AA/AA_20180711_7_5_6.TextGrid\n",
      "../../Prosody-Pragmatics/Corpus/AA/AA_20180711_11_1_2.wav\n",
      "../../Prosody-Pragmatics/Corpus/AA/AA_20180711_11_1_2.TextGrid\n",
      "../../Prosody-Pragmatics/Corpus/AA/AA_20180711_4_5_6.wav\n",
      "../../Prosody-Pragmatics/Corpus/AA/AA_20180711_4_5_6.TextGrid\n",
      "../../Prosody-Pragmatics/Corpus/AA/AA_20180711_8_3_4.wav\n",
      "../../Prosody-Pragmatics/Corpus/AA/AA_20180711_8_3_4.TextGrid\n",
      "../../Prosody-Pragmatics/Corpus/AA/AA_20180711_5_0_0.wav\n",
      "../../Prosody-Pragmatics/Corpus/AA/AA_20180711_5_0_0.TextGrid\n",
      "../../Prosody-Pragmatics/Corpus/AA/AA_20180711_4_2_3.wav\n",
      "../../Prosody-Pragmatics/Corpus/AA/AA_20180711_4_2_3.TextGrid\n",
      "../../Prosody-Pragmatics/Corpus/AA/AA_20180711_7_1_2.wav\n",
      "../../Prosody-Pragmatics/Corpus/AA/AA_20180711_7_1_2.TextGrid\n"
     ]
    }
   ],
   "source": [
    "all_data = []\n",
    "\n",
    "for file in audio_files:\n",
    "    print(file)\n",
    "    text_grid_file = \".\".join([file.split(\".wav\")[0], \"TextGrid\"])\n",
    "    print(text_grid_file)\n",
    "    tg = TextGrid().fromFile(text_grid_file)\n",
    "    y, sr = librosa.load(file)\n",
    "    \n",
    "    ## spectrogram features\n",
    "    S = librosa.feature.melspectrogram(sr = sr, y = y)\n",
    "    ## time duration\n",
    "    time_duration = librosa.core.samples_to_time(range(0,y.shape[0],), sr = sr)\n",
    "    spec_times = librosa.core.samples_to_time( np.arange(0, y.shape[0], int(y.shape[0]/S.shape[0]) + 1), sr = sr)\n",
    "    \n",
    "    ## IO values from textgrid\n",
    "    interval_teir = tg.getList(\"stress\")[0]\n",
    "    intervals = interval_teir.intervals\n",
    "    stressed_intervals = [interval for interval in intervals if interval.mark == \"I\"]\n",
    "    ## now we have a list of stressed intervals\n",
    "    \n",
    "    Stress_Y = []\n",
    "    for time in spec_times:\n",
    "        stressed = False\n",
    "        for interval in stressed_intervals:\n",
    "            if interval.bounds()[0] <= time and interval.bounds()[1] >= time:\n",
    "                stressed = True\n",
    "                break\n",
    "        if stressed:\n",
    "            Stress_Y.append(\"I\")\n",
    "        else:\n",
    "            Stress_Y.append(\"O\")\n",
    "    \n",
    "    data = np.array(list((zip(S, Stress_Y))))\n",
    "    all_data.append(data)\n",
    "\n",
    "all_data = np.array(all_data)"
   ]
  },
  {
   "cell_type": "code",
   "execution_count": 74,
   "metadata": {},
   "outputs": [
    {
     "data": {
      "text/plain": [
       "<matplotlib.axes._subplots.AxesSubplot at 0x7f1f4eaba8d0>"
      ]
     },
     "execution_count": 74,
     "metadata": {},
     "output_type": "execute_result"
    },
    {
     "data": {
      "image/png": "[encoded data removed]",
      "text/plain": [
       "<Figure size 432x288 with 1 Axes>"
      ]
     },
     "metadata": {},
     "output_type": "display_data"
    }
   ],
   "source": [
    "## finding time for spectrogram and audio values\n",
    "S = librosa.feature.melspectrogram(sr = sr, y = y)\n",
    "#S, phase = librosa.magphase(librosa.stft(y))\n",
    "time_duration = librosa.core.samples_to_time(range(0,y.shape[0],), sr = sr)\n",
    "spec_times = librosa.core.samples_to_time( np.arange(0, y.shape[0], int(y.shape[0]/S.shape[0]) + 1), sr = sr)\n",
    "\n",
    "librosa.display.specshow(librosa.amplitude_to_db(S, ref=np.max), x_axis = \"time\", y_axis=\"mel\")"
   ]
  },
  {
   "cell_type": "code",
   "execution_count": 75,
   "metadata": {},
   "outputs": [
    {
     "data": {
      "text/plain": [
       "((55541,), (128, 109), (55541,), (128,))"
      ]
     },
     "execution_count": 75,
     "metadata": {},
     "output_type": "execute_result"
    }
   ],
   "source": [
    "time_duration.shape ,S.shape, y.shape, spec_times.shape"
   ]
  },
  {
   "cell_type": "code",
   "execution_count": 147,
   "metadata": {},
   "outputs": [
    {
     "data": {
      "text/plain": [
       "True"
      ]
     },
     "execution_count": 147,
     "metadata": {},
     "output_type": "execute_result"
    }
   ],
   "source": [
    "### finding IO values form textgrid\n",
    "interval_tier = tg.getList(\"stress\")[0]\n",
    "intervals = interval_tier.intervals\n",
    "i = [interval for interval in intervals if interval.mark==\"I\"]\n"
   ]
  },
  {
   "cell_type": "code",
   "execution_count": 181,
   "metadata": {},
   "outputs": [
    {
     "data": {
      "text/plain": [
       "(51, 128, 2)"
      ]
     },
     "execution_count": 181,
     "metadata": {},
     "output_type": "execute_result"
    }
   ],
   "source": []
  },
  {
   "cell_type": "code",
   "execution_count": null,
   "metadata": {},
   "outputs": [],
   "source": []
  }
 ],
 "metadata": {
  "kernelspec": {
   "display_name": "Python 3",
   "language": "python",
   "name": "python3"
  },
  "language_info": {
   "codemirror_mode": {
    "name": "ipython",
    "version": 3
   },
   "file_extension": ".py",
   "mimetype": "text/x-python",
   "name": "python",
   "nbconvert_exporter": "python",
   "pygments_lexer": "ipython3",
   "version": "3.6.5"
  }
 },
 "nbformat": 4,
 "nbformat_minor": 2
}
